{
 "cells": [
  {
   "cell_type": "code",
   "execution_count": 3,
   "metadata": {},
   "outputs": [
    {
     "name": "stdout",
     "output_type": "stream",
     "text": [
      "Enter the x vector velocity(m/s): 5\n",
      "Enter the y vector velocity(m/s): 3\n"
     ]
    },
    {
     "data": {
      "image/png": "[encoded data removed]",
      "text/plain": [
       "<Figure size 432x288 with 1 Axes>"
      ]
     },
     "metadata": {
      "needs_background": "light"
     },
     "output_type": "display_data"
    }
   ],
   "source": [
    "import math # math라이브러리\n",
    "from math import pow, ceil # 제곱값을 구하는 pow, 자신보다 큰 값중 가장 근접한 정수 찾는 ceil\n",
    "import matplotlib.pyplot as plt\n",
    "\n",
    "# 중력가속도를 나타내는 GRAVITY와 그래프 표시 시간주기를 의미하는 INTERVAL을 상수로 선언\n",
    "GRAVITY = 9.81\n",
    "INTERVAL = 0.001\n",
    "\n",
    "# 그래프에 포물선을 표시하기 위해 배열만드는 함수를 선언한다.\n",
    "# 시작시간에 start, 끝나는 시간 end, 시간주기 steop 값을 받아 배열 생성.\n",
    "def timeArrary(start, end, step):\n",
    "    times = []\n",
    "    while start < end:\n",
    "        times.append(start)\n",
    "        start += step\n",
    "    return times\n",
    "\n",
    "# 포물선을 그리는 함수 선언.\n",
    "def draw_parabola(xVelocity, yVelocity):\n",
    "    \"\"\"\n",
    "    비행시간의 계산\n",
    "    F=ma(delta_v/t), t = delta_v/a(중력가속도)\n",
    "    비행시간(t)은 낙하하는 시간의 두배이므로\n",
    "    2(Y벡터의 속도 v_y / 중력가속도 a)\n",
    "    \"\"\"\n",
    "    flyTime = 2 * yVelocity / GRAVITY\n",
    "    \"\"\"\n",
    "    비행 거리는 X축의 변위\n",
    "    X축의 변화되는 위치 S는\n",
    "    속도 v_x와 비행시간t의 곱 (S = v_x t)\n",
    "    \"\"\"\n",
    "\n",
    "    flyDistance = xVelocity * flyTime\n",
    "    # 앞에 선언한 timeArray라는 함수를 이용하여 물체가 날기 시작하면서 낙하할때까지\n",
    "    # 시간주기를 이용한 배열을 만든다.\n",
    "    intervals = timeArrary(0, flyTime, INTERVAL)\n",
    "\n",
    "    # 포물선에 x축과 y축의 위치를 표시하기 위한 배열을 만든다\n",
    "    x = []\n",
    "    y = []\n",
    "\n",
    "    # 앞에서 만든 시간주기 배열을 For문을 이용하여 Loop를 돌리면 t 시간주기별로\n",
    "    # x,y배열에 위치값을 계산하여 저장할 수 있다.\n",
    "    for t in intervals:\n",
    "        \"\"\"\n",
    "        X축의 위치 계산\n",
    "        X축의 변화되는 위치 S는 (S = v_x t)\n",
    "        X축 벡터 변위 : 속도 v_x와 시간t의 곱\n",
    "        \"\"\"\n",
    "        x.append(xVelocity * t)\n",
    "        \"\"\"\n",
    "        Y축의 위치 계산\n",
    "        Y축의 변하되는 위치 S는\n",
    "        Y축 벡터변위(속도 y_v와 시간 t의 곱)와\n",
    "        중력 벡터변위(1/2 at^2, 4.9 t^2)의 차\n",
    "        S = v_y * t - 4.9 * t^2\n",
    "        \"\"\"\n",
    "        y.append(yVelocity*t - 0.5 * GRAVITY * math.pow(t, 2))\n",
    "\n",
    "    # 그래프에 x, y배열에 저장한 위치값을 표시한다.\n",
    "    plt.plot(x, y)\n",
    "    # x축 범주에 입력한 x벡터 속도를 표시한다.\n",
    "    plt.xlabel('x vector velocity is ' + str(xVelocity) + 'm/s')\n",
    "    # y축 범주에 입력한 y벡터 속도를 표시한다.\n",
    "    plt.ylabel('y vector velocity is ' + str(yVelocity) + 'm/s')\n",
    "    # Tittle에는 계산한 비행시간과 거리를 math.ceil함수를 이용하여 정수로 표시한다.\n",
    "    plt.title('Fly time is ' + str(math.ceil(flyTime)) + 's, Distance is ' + str(math.ceil(flyDistance)))\n",
    "\n",
    "\n",
    "if __name__ == '__main__':\n",
    "    try:\n",
    "        xVelocity = float(input('Enter the x vector velocity(m/s): ')) # x벡터 속도\n",
    "        yVelocity = float(input('Enter the y vector velocity(m/s): ')) # y벡터 속도\n",
    "    except ValueError:\n",
    "        print('Invalid input') # 잘못된 값을 입력 받을 시 에러메시지 출력\n",
    "    else:\n",
    "        draw_parabola(xVelocity, yVelocity)\n",
    "        plt.show()"
   ]
  }
 ],
 "metadata": {
  "kernelspec": {
   "display_name": "Python 3",
   "language": "python",
   "name": "python3"
  },
  "language_info": {
   "codemirror_mode": {
    "name": "ipython",
    "version": 3
   },
   "file_extension": ".py",
   "mimetype": "text/x-python",
   "name": "python",
   "nbconvert_exporter": "python",
   "pygments_lexer": "ipython3",
   "version": "3.7.3"
  }
 },
 "nbformat": 4,
 "nbformat_minor": 2
}
