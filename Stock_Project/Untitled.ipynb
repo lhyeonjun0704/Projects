{
 "cells": [
  {
   "cell_type": "code",
   "execution_count": 14,
   "metadata": {},
   "outputs": [],
   "source": [
    "#token 재발급 과정\n",
    "#with open(\"kakao_token.json\", \"r\") as fp:\n",
    "#    tokens = json.load(fp)"
   ]
  },
  {
   "cell_type": "code",
   "execution_count": 15,
   "metadata": {},
   "outputs": [
    {
     "data": {
      "text/plain": [
       "{'access_token': 'kmKHtZx1oQA3EA6cp4zfHLtsSBGE800hxNrfTwopcJ8AAAFy72y08A',\n",
       " 'token_type': 'bearer',\n",
       " 'refresh_token': '4yDx3N_YT1J4etZ4M2dw4javsPTaTzRgpWCzOgopcJ8AAAFy72y07w',\n",
       " 'expires_in': 21599,\n",
       " 'scope': 'account_email talk_message profile',\n",
       " 'refresh_token_expires_in': 5183999}"
      ]
     },
     "execution_count": 15,
     "metadata": {},
     "output_type": "execute_result"
    }
   ],
   "source": [
    "#tokens"
   ]
  },
  {
   "cell_type": "code",
   "execution_count": 16,
   "metadata": {},
   "outputs": [],
   "source": [
    "#url =\"https://kauth.kakao.com/oauth/token\"\n",
    "#data = {\n",
    "#    \"grant_type\" : \"refresh_token\",\n",
    "#    \"client_id\" : app_key,\n",
    "#    \"refresh_token\" : tokens['refresh_token']\n",
    "#}\n",
    "\n",
    "#response = requests.post(url, data = data)\n"
   ]
  },
  {
   "cell_type": "code",
   "execution_count": 17,
   "metadata": {},
   "outputs": [
    {
     "data": {
      "text/plain": [
       "200"
      ]
     },
     "execution_count": 17,
     "metadata": {},
     "output_type": "execute_result"
    }
   ],
   "source": [
    "#response.status_code"
   ]
  },
  {
   "cell_type": "code",
   "execution_count": 18,
   "metadata": {},
   "outputs": [
    {
     "data": {
      "text/plain": [
       "{'access_token': 'bKTUBbZucMkf8h0jd4pogF4NqZZ51aRtLduxfwo9dNkAAAFy723xSw',\n",
       " 'token_type': 'bearer',\n",
       " 'expires_in': 21599}"
      ]
     },
     "execution_count": 18,
     "metadata": {},
     "output_type": "execute_result"
    }
   ],
   "source": [
    "#response.json()"
   ]
  },
  {
   "cell_type": "code",
   "execution_count": 19,
   "metadata": {},
   "outputs": [],
   "source": [
    "#tokens['access_token'] = response.json()['access_token']\n",
    "#tokens['app_key'] = app_key"
   ]
  },
  {
   "cell_type": "code",
   "execution_count": 20,
   "metadata": {},
   "outputs": [],
   "source": [
    "#with open(\"kakao_token.json\", \"w\") as fp:\n",
    "#    json.dump(tokens, fp)"
   ]
  },
  {
   "cell_type": "code",
   "execution_count": null,
   "metadata": {},
   "outputs": [
    {
     "name": "stdout",
     "output_type": "stream",
     "text": [
      "{'access_token': 'TSPUORKDQN2ZZ68sC2lMQK4BWIS4wZ8wvZSJygopcSEAAAFy8PAh-Q', 'token_type': 'bearer', 'refresh_token': '-VOS5w9X-ZHuYJkNNHPTqyRL0rEu5p5tTNB-3QopcSEAAAFy8PAh-Q', 'expires_in': 21599, 'scope': 'account_email talk_message profile', 'refresh_token_expires_in': 5183999}\n",
      "   코스피06.26. 18:59   2,134.65  전일대비상승22.28 (+1.05%)         \n",
      "<class 'bs4.element.Tag'>\n",
      "   코스피06.26. 18:59   2,134.65  전일대비상승22.28 (+1.05%)         \n",
      "    코스닥06.26. 18:59   750.58  전일대비상승0.22 (+0.03%)         \n",
      "None\n",
      "   코스피06.26. 18:59   2,134.65  전일대비상승22.28 (+1.05%)         \n",
      "<class 'bs4.element.Tag'>\n",
      "   코스피06.26. 18:59   2,134.65  전일대비상승22.28 (+1.05%)         \n",
      "    코스닥06.26. 18:59   750.58  전일대비상승0.22 (+0.03%)         \n",
      "None\n"
     ]
    }
   ],
   "source": [
    "import requests\n",
    "import time\n",
    "import json\n",
    "import urllib\n",
    "from bs4 import BeautifulSoup\n",
    "\n",
    "app_key = \"4246d45295254fe85bbd5d22ec86cf6f\"\n",
    "\n",
    "#GET  HTTP/1.1\n",
    "#https://kauth.kakao.com/oauth/authorize?client_id=4246d45295254fe85bbd5d22ec86cf6f&redirect_uri=https://localhost.com&response_type=code\n",
    "\n",
    "code = \"HdDf7PtPD7P0ovzw9J_j-qTL5Q4MS1ME4ejpU8pJQ034L1VPSWGrYZDo_33s51LvfQCK8AopcNEAAAFy8O-XYA\"\n",
    "\n",
    "url = \"https://kauth.kakao.com/oauth/token\"\n",
    "data = {\n",
    "    \"grant_type\" : \"authorization_code\",\n",
    "    \"client_id\" : app_key,\n",
    "    \"redirect_url\":  \"https://localhost.com\",\n",
    "    \"code\" : code\n",
    "}\n",
    "\n",
    "response = requests.post(url, data = data)\n",
    "tokens = response.json()\n",
    "print(tokens)\n",
    "\n",
    "with open(\"kakao_token.json\", \"w\") as fp:\n",
    "    json.dump(tokens, fp)\n",
    "    \n",
    "\n",
    "def send_to_kakao(text):\n",
    "\n",
    "        \n",
    "    url = \"https://kapi.kakao.com/v2/api/talk/memo/default/send\"\n",
    "    headers = {\n",
    "        \"Authorization\" : \"Bearer \" + tokens['access_token']\n",
    "    }\n",
    "    data = {\n",
    "        \"template_object\" : json.dumps({\n",
    "            \"object_type\" : \"text\",\n",
    "            \"text\" : text,\n",
    "            \"link\" : {\n",
    "                \"web_url\" : \"www.naver.com\"\n",
    "            }\n",
    "        })\n",
    "    }\n",
    "    \n",
    "    response = requests.post(url, headers= headers, data = data)\n",
    "    response.status_code\n",
    "\n",
    "\n",
    "def st_cra():\n",
    "    response = requests.get(\"https://search.naver.com/search.naver?sm=tab_hty.top&where=nexearch&query=%EC%8B%A4%EC%8B%9C%EA%B0%84+%EC%A3%BC%EC%8B%9D&oquery=%EC%8B%A4%EC%8B%9C%EA%B0%84+%EC%A3%BC%EC%8B%9D&tqi=UYSswwp0Jy0ssUTsyn8ssssssBK-158155\")\n",
    "    response\n",
    "    time.sleep(0.5)\n",
    "    source = response.text\n",
    "    data = BeautifulSoup(source, 'html.parser')\n",
    "\n",
    "    temp = data.find(\"li\", class_=\"csp\")\n",
    "    temp_2 = data.find(\"li\", class_=\"csd\")\n",
    "    \n",
    "    print(temp.text)\n",
    "    print(type(temp))\n",
    "    \n",
    "    text = \"{}\\r\\n {}\".format(temp.text, temp_2.text)\n",
    "    print(text)\n",
    "    r = send_to_kakao(text)\n",
    "    print(r)\n",
    "   \n",
    "while True:\n",
    "    st_cra()\n",
    "    time.sleep(60 * 5)"
   ]
  }
 ],
 "metadata": {
  "kernelspec": {
   "display_name": "Python 3",
   "language": "python",
   "name": "python3"
  },
  "language_info": {
   "codemirror_mode": {
    "name": "ipython",
    "version": 3
   },
   "file_extension": ".py",
   "mimetype": "text/x-python",
   "name": "python",
   "nbconvert_exporter": "python",
   "pygments_lexer": "ipython3",
   "version": "3.7.3"
  }
 },
 "nbformat": 4,
 "nbformat_minor": 2
}
